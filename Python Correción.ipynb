{
 "cells": [
  {
   "cell_type": "markdown",
   "metadata": {},
   "source": [
    "# Nivell 1\n",
    "## Ejercicio 1:\n",
    "### Calculadora de l'índex de massa corporal.\n",
    "Escriu una funció que calculi l'IMC ingressat per l'usuari/ària, és a dir, qui ho executi haurà d'ingressar aquestes dades. Pots obtenir més informació del seu càlcul en: Para calcular el IMC es necesario dividir el peso en kg de un paciente entre el cuadrado de su altura en metros. "
   ]
  },
  {
   "cell_type": "markdown",
   "metadata": {},
   "source": [
    "### Descripción 1.1 \n",
    "Creo la función calcul compuesta por dos calculos: primero se crea la Formula_IMC como variable y segundo aplicamos un condicional al valor de está variable para poder categorizar el peso de la persona. Y para finalizar retorna un mensaje al usuario con su indicador IMC y la categoria en la cual se encontraria.\n",
    "En la main creo dos variables Altura y peso, ambas son formato input, que insertara el usuario y que posteriormente se pasan como parámetros por la función calcul. Ademas creo un formato try-except para personalizar el mensaje de error en caso que el input no pueda convertirse en float. Y finalmente implemente un loop infinito con While True que finaliza con el break al cumplirse todos los requerimientos."
   ]
  },
  {
   "cell_type": "code",
   "execution_count": 5,
   "metadata": {},
   "outputs": [
    {
     "name": "stdout",
     "output_type": "stream",
     "text": [
      "Presiona 'Esc' en cualquier momento para salir.\n",
      "Saliendo del programa.\n"
     ]
    }
   ],
   "source": [
    "import keyboard\n",
    "\n",
    "def calcul():\n",
    "    print(\"Presiona 'Esc' en cualquier momento para salir.\")\n",
    "\n",
    "    while True:\n",
    "        try:\n",
    "            altura = float(input(\"Dame tu altura en metros: \"))\n",
    "            peso = float(input(\"Dame tu peso en kilos: \"))\n",
    "            formula_imc = round(peso / (altura * altura), 2)\n",
    "            break\n",
    "        except ValueError:\n",
    "            if  keyboard.is_pressed('Esc'):\n",
    "                print(\"Saliendo del programa.\")\n",
    "                return\n",
    "            else:\n",
    "                print('Por favor introduzca un valor numérico')\n",
    "\n",
    "    if formula_imc > 30:\n",
    "        clasificacion = \"Obesidad\"\n",
    "    elif formula_imc >= 25:\n",
    "        clasificacion = \"Sobrepeso\"\n",
    "    elif formula_imc >= 18.5:\n",
    "        clasificacion = \"Peso normal\"\n",
    "    else:\n",
    "        clasificacion = \"Bajo peso\"\n",
    "    \n",
    "    return f\"IMC: {formula_imc} está indicado como {clasificacion}\"\n",
    "\n",
    "calcul()"
   ]
  },
  {
   "cell_type": "markdown",
   "metadata": {},
   "source": [
    "## Ejercicio 2\n",
    "### Convertidor de temperatures.\n",
    "Existeixen diverses unitats de temperatura utilitzades en diferents contextos i regions.\n",
    "Les més comunes són Celsius (°C), Fahrenheit (°F) i Kelvin (K).\n",
    "També existeixen altres unitats com Rankine (°Ra) i Réaumur (°Re). Selecciona almenys 2 conversors, de tal manera que en introduir una temperatura retorni, com a mínim, dues conversions."
   ]
  },
  {
   "cell_type": "markdown",
   "metadata": {},
   "source": [
    "### Descripción 1.2 \n",
    "He creado un loop infinito que pide al usuario los datos y que en el caso que haya error en la introducción de los parámetros, vuelva a pedirlos. \n",
    "Para ello he usado una estructura de try-except. He usado raise para que en el caso que el input sea incorrecto salte el except. \n",
    "Después de hacer las comprobaciones realizo en el else una estructura condicional en la cual dependiendo del sistema me retorne un output o otro.\n",
    "Si el proceso ha sucedido con exito ,se alcanza el break y se finaliza la ejecución."
   ]
  },
  {
   "cell_type": "code",
   "execution_count": 28,
   "metadata": {},
   "outputs": [
    {
     "name": "stdout",
     "output_type": "stream",
     "text": [
      "Presiona 'Esc' en cualquier momento para salir.\n",
      "Saliendo del programa.\n"
     ]
    }
   ],
   "source": [
    "import keyboard\n",
    "lista_sistemas = ['celsius','fahrenheit','kelvin']\n",
    "print(\"Presiona 'Esc' en cualquier momento para salir.\")\n",
    "\n",
    "while True:\n",
    "    try:\n",
    "        medida_1 = input(\"Cual es el sistema de medicion que vás a utilizar: Celsius, Fahrenheit o Kelvin\").lower()\n",
    "        if medida_1 not in lista_sistemas:\n",
    "            raise ValueError(\"El sistema de medición escogido no esta en el sistema: elige entre celsius,fahrenheit o kelvin\")\n",
    "\n",
    "        temperatura = float(input(\"Cual es la temperatura en el sistema elegido: Celsius, Fahrenheit o Kelvin\"))\n",
    "    \n",
    "    except ValueError as e:  \n",
    "        if  keyboard.is_pressed('esc'):\n",
    "            print(\"Saliendo del programa.\")\n",
    "            break\n",
    "        else:\n",
    "            print(e)\n",
    "    \n",
    "    else:\n",
    "        if medida_1 == lista_sistemas[0]:\n",
    "            print(f\"en Kelvin seria {(temperatura + 273.15):.2f}\")\n",
    "            print(f\"en Fahrenheit seria {((temperatura * 9/5)+32):.2f}\")\n",
    "\n",
    "        elif medida_1 == lista_sistemas[1]:\n",
    "            print(f\"en Kelvin seria {((temperatura - 32) * 5 / 9 + 273.15):.2f}\")\n",
    "            print(f\"en Celsius seria {((temperatura - 32) * 5 / 9):.2f}\")\n",
    "            \n",
    "        elif medida_1 == lista_sistemas[2]:\n",
    "            print(f\"en Celsius seria {(temperatura - 273.15):.2f}\")\n",
    "            print(f\"en Fahrenheit seria {((temperatura - 273.15) * 9 / 5 + 32):.2f}\")  \n",
    "            \n",
    "        break"
   ]
  },
  {
   "cell_type": "markdown",
   "metadata": {},
   "source": [
    "## Ejercicio 3 \n",
    "### Comptador de paraules d'un text.\n",
    "Escriu una funció que donat un text, mostri les vegades que apareix cada paraula."
   ]
  },
  {
   "cell_type": "markdown",
   "metadata": {},
   "source": [
    "### Descripción 1.3\n",
    "He empezado creando una funcion basada en regular expresion llamada eliminar puntuación.\n",
    "En la funcion contador_palabras combino el resultado anterior con split() para conseguir crear una lista.\n",
    "Posteriormente esta lista la paso por un loop que deriva a un nuevo diccionario y le pongo lower() para evitar el Casesensitive.\n",
    "A continuación, dentro del loop uso condicionales, en el caso que la palabra aun no haya aparecido anteriormente darle valor 1.\n",
    "En el caso que ya exista le suma al valor + 1. Y en la main simplemente ejecuto el resultado."
   ]
  },
  {
   "cell_type": "code",
   "execution_count": 32,
   "metadata": {},
   "outputs": [
    {
     "name": "stdout",
     "output_type": "stream",
     "text": [
      "la cantidad de palabras que contiene este texto son {'tres': 3, 'tristes': 3, 'tigres': 2, 'tragaban': 2, 'trigo': 2, 'en': 2, 'un': 1, 'trigal': 1, 'trastos': 1}\n"
     ]
    }
   ],
   "source": [
    "import re, string\n",
    "\n",
    "def main():\n",
    "    text = 'Tres tristes tigres, tragaban trigo en un trigal, en tres tristes trastos, tragaban trigo tres tristes tigres.'\n",
    "    contador = (contador_palabras(text))\n",
    "    print(f\"la cantidad de palabras que contiene este texto son {contador}\")\n",
    "               \n",
    "def contador_palabras(text):\n",
    "    contador = {}\n",
    "    text = text.lower()\n",
    "    palabras = eliminar_puntuación(text).split()\n",
    "    \n",
    "    for palabra in palabras:\n",
    "        if palabra not in contador:\n",
    "            contador[palabra] = 1\n",
    "        else: \n",
    "            contador[palabra] += 1\n",
    "\n",
    "    return contador\n",
    "\n",
    "def eliminar_puntuación(text):\n",
    "    return re.sub('[%s]' % re.escape(string.punctuation), ' ', text) \n",
    "\n",
    "main()   "
   ]
  },
  {
   "cell_type": "markdown",
   "metadata": {},
   "source": [
    "## Ejercicio 4\n",
    "### Diccionari invers.\n",
    "Resulta que el client té una enquesta molt antiga que s'emmagatzema en un diccionari i els resultats els necessita al revés, és a dir, intercanviats les claus i els valors. Els valors i claus en el diccionari original són únics; si aquest no és el cas, la funció hauria d'imprimir un missatge d'advertiment.\n",
    "\n"
   ]
  },
  {
   "cell_type": "markdown",
   "metadata": {},
   "source": [
    "### Descripción 1.4\n",
    "He usado un diccionario vacio al que voy agregandole contenido en loop.\n",
    "Dentro de este loop aplico la condición de no permitir valores duplicados, en caso que ocurra retorna un mensaje de error.\n",
    "Si supera los requisitos anteriores se intercambia la posicion del valor con la key."
   ]
  },
  {
   "cell_type": "code",
   "execution_count": 5,
   "metadata": {},
   "outputs": [
    {
     "name": "stdout",
     "output_type": "stream",
     "text": [
      "{1: 'a', 2: 'b', 3: 'c'}\n"
     ]
    }
   ],
   "source": [
    "def main():\n",
    "    diccionario= {'a': 1, 'b': 2, 'c': 3}\n",
    "    print(reverse_dict(diccionario))\n",
    "\n",
    "def reverse_dict(dict):\n",
    "    diccionario={}\n",
    "    for clave, valor in dict.items():\n",
    "        if valor in diccionario:\n",
    "            return(\"El diccionario tiene valores duplicados\")\n",
    "        diccionario[valor] = clave\n",
    "       \n",
    "        \n",
    "    return diccionario\n",
    "\n",
    "main()"
   ]
  },
  {
   "cell_type": "markdown",
   "metadata": {},
   "source": [
    "# Nivell 2\n",
    "## Ejercicio 1\n",
    "### Diccionari invers amb duplicats\n",
    "\n",
    "Continuant amb l'exercici 4 del nivell 1: al client es va oblidar de comentar un detall i resulta que els valors en el diccionari original poden duplicar-se i més, per la qual cosa les claus intercanviades poden tenir duplicats. En aquest cas, en l'exercici anterior imprimies un missatge d'advertiment, ara, els valors del diccionari resultant hauran d'emmagatzemar-se com una llista. Tingues en compte que si és un valor únic no ha de ser una llista."
   ]
  },
  {
   "cell_type": "markdown",
   "metadata": {},
   "source": [
    "### Descripción 2.1:\n",
    "Primero creo un diccionario vacío que voy a rellenar usando un loop.\n",
    "Dentro del loop, el primer condional es si el valor esta dentro del diccionario o no.\n",
    "En caso afirmativo se le aplica otro condicional: si ese valor identifica una lista(quiere decir que una misma clave ya tenia varios valores) ,usamos el metodo append.\n",
    "En caso que no hubiera lista creada, se crea una lista en la cual el valor nuevo se queda como identificador y la clave como componente dentro de la lista, juntandose con la clave del loop inicial. Por otro lado, si el valor no esta dentro del diccionario se realiza el intercambio entre valor y clave."
   ]
  },
  {
   "cell_type": "code",
   "execution_count": 6,
   "metadata": {},
   "outputs": [
    {
     "name": "stdout",
     "output_type": "stream",
     "text": [
      "{1: 'a', 2: ['b', 'd', 'e'], 3: 'c'}\n"
     ]
    }
   ],
   "source": [
    "def main():\n",
    "    diccionario = {'a': 1, 'b': 2, 'c': 3, 'd': 2, 'e': 2} \n",
    "    print(dict_duplicados(diccionario))\n",
    "\n",
    "def dict_duplicados(dict):\n",
    "    diccionario = {}\n",
    "    for clave, valor in dict.items():\n",
    "        if valor in diccionario:\n",
    "            if isinstance(diccionario[valor], list): \n",
    "                diccionario[valor].append(clave)\n",
    "            else:\n",
    "                diccionario[valor] = [diccionario[valor], clave]\n",
    "        else:\n",
    "            diccionario[valor] = clave\n",
    "    \n",
    "    return diccionario\n",
    "\n",
    "main()"
   ]
  },
  {
   "cell_type": "markdown",
   "metadata": {},
   "source": [
    "## Ejercicio 2\n",
    "### Conversió de tipus de dades\n",
    "\n",
    "El client rep una llista de dades i necessita generar dues llistes, la primera on estaran tots els elements que es van poder convertir en flotants i l'altra on estan els elements que no es van poder convertir. Exemple de la llista que rep el client: [ '1.3', 'one' , '1e10' , 'seven', '3-1/2', ('2',1,1.4,'not-a-number'), [1,2,'3','3.4']]\n",
    "\n"
   ]
  },
  {
   "cell_type": "markdown",
   "metadata": {},
   "source": [
    "### Descripción 2.2\n",
    "En la función conversion creo dos listas: Una para los elementos que pueden transformarse en float y la otra para los que no. \n",
    "Dentro de esta creo la funcion conversion_elementos en la cual de primeras intento usar el metodo append sobre el elemento transformandolo en float.\n",
    "Si esto no funciona le doy 2 opciones: el if instance es para el caso de que se pase una lista o una tupla, esta la descomponemos en partes usando un loop y reenviamos sus outputs al inicio de la función para que intenten ejecutar el Try de nuevo. \n",
    "Por último esta la opción que no sean una lista y que simplemente no se puedan convertir en floats. En tal caso los añadimos a la lista no_convertidos. "
   ]
  },
  {
   "cell_type": "code",
   "execution_count": 7,
   "metadata": {},
   "outputs": [
    {
     "name": "stdout",
     "output_type": "stream",
     "text": [
      "[1.3, 10000000000.0, 2.0, 1.0, 1.4, 1.0, 2.0, 3.0, 3.4]\n",
      "['one', 'seven', '3-1/2', 'not-a-number']\n"
     ]
    }
   ],
   "source": [
    "def main():\n",
    "    llista_dades_convertir = [ '1.3', 'one' , '1e10' , 'seven', '3-1/2', ('2',1,1.4,'not-a-number'), [1,2,'3','3.4']]\n",
    "    \n",
    "    lista_convertidos, lista_no_convertidos= conversion(llista_dades_convertir)\n",
    "    \n",
    "    print(lista_convertidos)\n",
    "    print(lista_no_convertidos)\n",
    "    \n",
    "def conversion(data):\n",
    "    lista_convertidos = []\n",
    "    lista_no_convertidos = []\n",
    "    def conversion_elementos(elemento):\n",
    "        try:\n",
    "            lista_convertidos.append(float(elemento))\n",
    "        except (ValueError,TypeError):\n",
    "            if isinstance(elemento,(list,tuple)):\n",
    "                for y in elemento:\n",
    "                    conversion_elementos(y)  \n",
    "            else: \n",
    "                lista_no_convertidos.append(elemento) \n",
    "    \n",
    "    for x in data:\n",
    "        conversion_elementos(x)\n",
    "    \n",
    "    return lista_convertidos, lista_no_convertidos\n",
    "    \n",
    "    \n",
    "              \n",
    "main()"
   ]
  },
  {
   "cell_type": "markdown",
   "metadata": {},
   "source": [
    "# Nivel 3\n",
    "## Ejercicio1 \n",
    "### Comptador i endreçador de paraules d'un text.\n",
    "\n",
    "El client va quedar content amb el comptador de paraules, però ara vol llegir arxius TXT i que calculi la freqüència de cada paraula ordenades dins de les entrades habituals del diccionari segons la lletra amb la qual comencen, és a dir, les claus han d'anar de la A a la Z i dins de la A hem d'anar de la A la Z. Per exemple, per a l'arxiu \"tu_me_quieres_blanca.txt\" la sortida esperada seria:"
   ]
  },
  {
   "cell_type": "markdown",
   "metadata": {},
   "source": [
    "### Descripción 3.1 \n",
    "Empiezo en la función diccionario_palabra llamando a la función contador_palabras y aplicándola sobre el parámetro. Posteriormente, creo un diccionario vacío y le voy añadiendo contenido en un bucle.\n",
    "Este bucle empieza tomando la primera letra de la palabra llamada, identificándola como palabra_inicial para posteriormente usarla en el formato condicional. En el caso de que la letra no existiera previamente en el diccionario, se añade.\n",
    "A continuación, le otorgo el valor a cada clave y creo la estructura clave-valor dentro de la agrupación por letra_inicial. Para terminar esta función, al final, ordeno los diccionarios y las claves por orden alfabético.\n",
    "En la función main: Importo el archivo, luego le aplico la función diccionario_palabras al archivo, y termino aplicando un bucle para la impresión de los datos."
   ]
  },
  {
   "cell_type": "code",
   "execution_count": 8,
   "metadata": {},
   "outputs": [
    {
     "name": "stdout",
     "output_type": "stream",
     "text": [
      "a: ('a', 3)\n",
      "('agua', 1)\n",
      "('al', 2)\n",
      "('alba', 4)\n",
      "('alcobas', 1)\n",
      "('alimenta', 1)\n",
      "('alma', 1)\n",
      "('amarga', 1)\n",
      "('azucena', 1)\n",
      "b: ('baco', 1)\n",
      "('banquete', 1)\n",
      "('bebe', 1)\n",
      "('blanca', 3)\n",
      "('boca', 1)\n",
      "('bosques', 1)\n",
      "('buen', 1)\n",
      "c: ('cabañas', 1)\n",
      "('carnes', 2)\n",
      "('casta', 3)\n",
      "('cerrada', 1)\n",
      "('con', 4)\n",
      "('conservas', 1)\n",
      "('copas', 1)\n",
      "('corola', 1)\n",
      "('corriste', 1)\n",
      "('cuando', 2)\n",
      "('cubierto', 1)\n",
      "('cuerpo', 1)\n",
      "('cuáles', 1)\n",
      "d: ('de', 8)\n",
      "('dejaste', 1)\n",
      "('del', 1)\n",
      "('diga', 1)\n",
      "('dios', 2)\n",
      "('duerme', 1)\n",
      "e: ('el', 4)\n",
      "('ellas', 1)\n",
      "('en', 4)\n",
      "('engaño', 1)\n",
      "('enredada', 1)\n",
      "('entonces', 1)\n",
      "('escarcha', 1)\n",
      "('espumas', 1)\n",
      "('esqueleto', 1)\n",
      "('estrago', 1)\n",
      "f: ('festejando', 1)\n",
      "('filtrado', 1)\n",
      "('frutos', 1)\n",
      "h: ('habla', 1)\n",
      "('hacia', 1)\n",
      "('haya', 1)\n",
      "('hayas', 1)\n",
      "('hermana', 1)\n",
      "('hombre', 1)\n",
      "('hubiste', 1)\n",
      "('huye', 1)\n",
      "i: ('intacto', 1)\n",
      "j: ('jardines', 1)\n",
      "l: ('la', 3)\n",
      "('labios', 1)\n",
      "('las', 7)\n",
      "('lo', 2)\n",
      "('los', 4)\n",
      "('luna', 1)\n",
      "('lévate', 1)\n",
      "('límpiate', 1)\n",
      "m: ('mano', 1)\n",
      "('manos', 1)\n",
      "('margarita', 1)\n",
      "('me', 9)\n",
      "('mi', 1)\n",
      "('mieles', 1)\n",
      "('milagros', 1)\n",
      "('mojada', 1)\n",
      "('montaña', 1)\n",
      "('morados', 1)\n",
      "n: ('negros', 1)\n",
      "('ni', 2)\n",
      "('no', 1)\n",
      "('nácar', 1)\n",
      "('nívea', 2)\n",
      "p: ('perdone', 2)\n",
      "('perfume', 1)\n",
      "('por', 2)\n",
      "('pretendes', 3)\n",
      "('preténdeme', 3)\n",
      "('puesto', 1)\n",
      "('pájaros', 1)\n",
      "('pámpanos', 1)\n",
      "q: ('que', 6)\n",
      "('quedó', 1)\n",
      "('quieres', 6)\n",
      "r: ('rayo', 1)\n",
      "('raíz', 1)\n",
      "('renueva', 1)\n",
      "('rocas', 1)\n",
      "('rojo', 1)\n",
      "s: ('salitre', 1)\n",
      "('se', 2)\n",
      "('sea', 1)\n",
      "('sean', 1)\n",
      "('sobre', 2)\n",
      "('sé', 1)\n",
      "t: ('te', 3)\n",
      "('tejidos', 1)\n",
      "('tenue', 1)\n",
      "('tierra', 1)\n",
      "('toca', 1)\n",
      "('todas', 2)\n",
      "('todavía', 1)\n",
      "('tornadas', 1)\n",
      "('tú', 8)\n",
      "u: ('un', 1)\n",
      "('una', 1)\n",
      "v: ('vestido', 1)\n",
      "('vete', 1)\n",
      "('vive', 1)\n",
      "y: ('y', 5)\n",
      "¡: ('¡me', 1)\n"
     ]
    }
   ],
   "source": [
    "def main():\n",
    "    with open(\"tu_me_quieres_blanca.txt\", \"r\", encoding=\"utf-8\") as file:\n",
    "        text = file.read()\n",
    "    \n",
    "    diccionario = diccionario_palabras(text) \n",
    "\n",
    "    for letra, palabras in diccionario.items():   \n",
    "        print(f\"{letra}: \", end = '')      \n",
    "        for palabra in palabras.items():\n",
    "            print(palabra)  \n",
    "\n",
    "\n",
    "def diccionario_palabras(text):\n",
    "    palabras_contadas = contador_palabras(text)\n",
    "\n",
    "    diccionario = {}\n",
    "\n",
    "    for palabra, conteo in palabras_contadas.items():\n",
    "        letra_inicial = palabra[0]\n",
    "        \n",
    "        if letra_inicial not in diccionario:\n",
    "            diccionario[letra_inicial] = {}\n",
    "        \n",
    "        diccionario[letra_inicial][palabra] = conteo\n",
    "\n",
    "    for letra in diccionario:\n",
    "        diccionario[letra] = dict(sorted(diccionario[letra].items()))\n",
    "    \n",
    "    diccionario_ordenado = dict(sorted(diccionario.items()))\n",
    "\n",
    "    return diccionario_ordenado\n",
    "\n",
    "if __name__ == '__main__':\n",
    "    main()"
   ]
  }
 ],
 "metadata": {
  "kernelspec": {
   "display_name": "Python 3",
   "language": "python",
   "name": "python3"
  },
  "language_info": {
   "codemirror_mode": {
    "name": "ipython",
    "version": 3
   },
   "file_extension": ".py",
   "mimetype": "text/x-python",
   "name": "python",
   "nbconvert_exporter": "python",
   "pygments_lexer": "ipython3",
   "version": "3.12.2"
  }
 },
 "nbformat": 4,
 "nbformat_minor": 2
}
